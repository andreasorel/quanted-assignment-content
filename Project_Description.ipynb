{
 "cells": [
  {
   "cell_type": "markdown",
   "metadata": {},
   "source": [
    "# Assignment: Build your own quant strategy\n",
    "### Your task is to construct a quantitative trading strategy that delivers alpha for your Hedge Fund.\n",
    "\n",
    "1. It must be based on ex-ante available information (tradable!).\n",
    "2. It can be a pure stock selection strategy or a combination with a timing strategy.\n",
    "3. You can combine any of the signals available or create new ones from them.\n",
    "4. All weighting schemes are accepted – equal weighting, weighting based on size\n",
    "(market equity) or something else. Just make sure it is ex-ante available information!\n",
    "5. A pure momentum strategy is off limits (but it can be part of your combination\n",
    "strategy).\n",
    "6. The given German stocks and the risk-free asset are the only investment opportunities,\n",
    "i.e., there are no funds that allow you to simply buy HML, SMB or international assets.\n",
    "7. The quantitative evaluation criterion will be the Information Ratio with respect to the\n",
    "CAPM (MktRf factor). \n",
    "\n",
    "\n",
    "\n",
    "## Some ideas:\n",
    "> Ang, Hodrick, Xing and Zhang (2006): The Cross-Section of Volatility and Expected Returns, Journal of\n",
    "Finance 61, pp. 259-299.\n",
    "\n",
    "> Asness, Moskowitz and Pedersen (2013): Value and Momentum Everywhere, Journal of Finance 68,\n",
    "pp. 929-985.\n",
    "\n",
    "> Frazzini and Pedersen (2014): Betting Against Beta, Journal of Financial Economics 111, pp. 1-25.\n",
    "Prepare (i) a summary of your trading strategy, (ii) your empirical results, and (iii) explain why your\n",
    "strategy should work.\n",
    "\n",
    "\n",
    "**The hand in date for this exercise is March 17.**\n",
    "\n",
    "On March 18 (our 11th lecture), I will upload more recent returns of the same stocks. You can then\n",
    "test the performance of your trading strategy out of sample. Make your code sufficiently flexible to\n",
    "easily exchange the data for this out-of-sample test. Again, focus on reporting the information ratio.\n",
    "You can also provide additional graphs and plots that support your case. This out-of-sample test is a\n",
    "small part of the assignment. The main goal of this part is to determine whose strategies performed\n",
    "best. The best three strategies will receive a small award!\n",
    "Additional hints:\n",
    "• Converting from long to wide with multiple signals:\n",
    "o yourdata.wide <- dcast.data.table(yourdata.long,\n",
    "formula=\"mdate~port1+port2\", value.var=\"port.return\")\n",
    "• Exporting data to csv\n",
    "o write.csv2(yourdata, file=\"[yourpath]/yourfilename.csv\", row.names=FALSE,\n",
    "na=\"\""
   ]
  }
 ],
 "metadata": {
  "kernelspec": {
   "display_name": "Python 3",
   "language": "python",
   "name": "python3"
  },
  "language_info": {
   "codemirror_mode": {
    "name": "ipython",
    "version": 3
   },
   "file_extension": ".py",
   "mimetype": "text/x-python",
   "name": "python",
   "nbconvert_exporter": "python",
   "pygments_lexer": "ipython3",
   "version": "3.7.3"
  }
 },
 "nbformat": 4,
 "nbformat_minor": 4
}
