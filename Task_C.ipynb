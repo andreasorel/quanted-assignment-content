{
 "cells": [
  {
   "cell_type": "markdown",
   "metadata": {},
   "source": [
    "## (iii) Economic reasoning\n",
    "Explain why you think the strategy works (mispricing vs. risk premium) and why you are convinced\n",
    "that it will continue to work. Comment on expected trading costs, potential leverage and capacity.\n",
    "Again, keep in mind that you are trying to convince a potential investor of your strategy – be brief\n",
    "and precise in your descriptions."
   ]
  },
  {
   "cell_type": "code",
   "execution_count": null,
   "metadata": {},
   "outputs": [],
   "source": []
  }
 ],
 "metadata": {
  "kernelspec": {
   "display_name": "Python 3",
   "language": "python",
   "name": "python3"
  },
  "language_info": {
   "codemirror_mode": {
    "name": "ipython",
    "version": 3
   },
   "file_extension": ".py",
   "mimetype": "text/x-python",
   "name": "python",
   "nbconvert_exporter": "python",
   "pygments_lexer": "ipython3",
   "version": "3.7.3"
  }
 },
 "nbformat": 4,
 "nbformat_minor": 4
}
