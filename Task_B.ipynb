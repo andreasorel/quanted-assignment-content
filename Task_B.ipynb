{
 "cells": [
  {
   "cell_type": "markdown",
   "metadata": {},
   "source": [
    "# (ii) Backtest your results\n",
    "#### The minimum requirement is to report the information ratio. This is your main evaluation criterion.\n",
    "\n",
    "**In addition**, you can provide plots to show performance over time, as well as any additional\n",
    "information, such as turnover, types of stocks traded (e.g. their size). In providing this additional\n",
    "background material, keep the goal in mind: you are trying to convince potential investors about\n",
    "your strategy. Hence, as before, the graphs and summaries need to be clearly and briefly described,\n",
    "axis labeled accurately, etc. "
   ]
  },
  {
   "cell_type": "code",
   "execution_count": 8,
   "metadata": {},
   "outputs": [],
   "source": [
    "import qf_lib.common.enums.frequency as qf\n",
    "import pandas\n",
    "infile = open(\"Data/DE_beta.csv\",\"r\")"
   ]
  }
 ],
 "metadata": {
  "kernelspec": {
   "display_name": "Python 3",
   "language": "python",
   "name": "python3"
  },
  "language_info": {
   "codemirror_mode": {
    "name": "ipython",
    "version": 3
   },
   "file_extension": ".py",
   "mimetype": "text/x-python",
   "name": "python",
   "nbconvert_exporter": "python",
   "pygments_lexer": "ipython3",
   "version": "3.7.3"
  }
 },
 "nbformat": 4,
 "nbformat_minor": 4
}
